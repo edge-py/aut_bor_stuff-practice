{
 "cells": [
  {
   "cell_type": "markdown",
   "source": [
    "## input test"
   ],
   "metadata": {}
  },
  {
   "cell_type": "code",
   "execution_count": 25,
   "source": [
    "user_name = input('Type in your name: ')\r\n",
    "print('Your name is {}, right? That\\'s cool!'.format(user_name))"
   ],
   "outputs": [
    {
     "output_type": "stream",
     "name": "stdout",
     "text": [
      "Your name is -1, right? That's cool!\n"
     ]
    }
   ],
   "metadata": {}
  },
  {
   "cell_type": "code",
   "execution_count": 26,
   "source": [
    "user_name2 = \"\"\r\n",
    "while not user_name2:\r\n",
    "    user_name2 = input('Please type in your name: ')\r\n",
    "print('Great, ' + user_name2 + '! That\\'s a good name for sure!')"
   ],
   "outputs": [
    {
     "output_type": "stream",
     "name": "stdout",
     "text": [
      "Great, 3! That's a good name for sure!\n"
     ]
    }
   ],
   "metadata": {}
  },
  {
   "cell_type": "markdown",
   "source": [
    "## Rock, paper, scissors"
   ],
   "metadata": {}
  },
  {
   "cell_type": "code",
   "execution_count": 27,
   "source": [
    "# rock, paper, scissors\r\n",
    "import randint from random\r\n",
    "\r\n",
    "print(\"Welcome to Rock, Paper, Scissors!\")\r\n",
    "move = ''\r\n",
    "ai_move = 0\r\n",
    "score_wins = 0\r\n",
    "score_ties = 0\r\n",
    "score_loses = 0\r\n",
    "\r\n",
    "while move != 'q':\r\n",
    "    print('Your score is {} wins, {} ties and {} loses.'.format(score_wins, score_ties, score_loses))\r\n",
    "    move = input('What\\'s your move? (R)orck, (P)aper, (S)cissors or (Q)uit?').lower()\r\n",
    "\r\n",
    "    ai_move = randint() % 3\r\n",
    "    if ai_move == 0:\r\n",
    "\r\n"
   ],
   "outputs": [
    {
     "output_type": "error",
     "ename": "SyntaxError",
     "evalue": "invalid syntax (<ipython-input-27-62b737035a54>, line 2)",
     "traceback": [
      "\u001b[1;36m  File \u001b[1;32m\"<ipython-input-27-62b737035a54>\"\u001b[1;36m, line \u001b[1;32m2\u001b[0m\n\u001b[1;33m    import randint from random\u001b[0m\n\u001b[1;37m                   ^\u001b[0m\n\u001b[1;31mSyntaxError\u001b[0m\u001b[1;31m:\u001b[0m invalid syntax\n"
     ]
    }
   ],
   "metadata": {}
  },
  {
   "cell_type": "markdown",
   "source": [
    "# Collatz function programm"
   ],
   "metadata": {}
  },
  {
   "cell_type": "code",
   "execution_count": 34,
   "source": [
    "def collatz(number):\r\n",
    "    if number % 2 == 0:\r\n",
    "        print('{} divide by 2 is {}'.format(number, number//2))\r\n",
    "        return number // 2\r\n",
    "    else:\r\n",
    "        print('{} times 3 plus 1 is {}'.format(number, 3*number+1))\r\n",
    "        return 3*number+1\r\n",
    "\r\n",
    "def mainfunc():\r\n",
    "    user_integer = -1\r\n",
    "    while user_integer != 0:\r\n",
    "        try:\r\n",
    "            user_integer = int(input('Type in an integer to run the program or 0 to quit: '))\r\n",
    "            print('Operations for number {} are:'.format(user_integer))\r\n",
    "        except ValueError:\r\n",
    "            print('Type in an INTEGER (1, 2, 3,..., n). You typed in some text!')\r\n",
    "            user_integer = -1\r\n",
    "        while user_integer > 1:\r\n",
    "            user_integer = collatz(user_integer)\r\n",
    "    print('bye!')\r\n",
    "\r\n",
    "mainfunc()\r\n",
    "\r\n"
   ],
   "outputs": [
    {
     "output_type": "stream",
     "name": "stdout",
     "text": [
      "Operations for number 999 are:\n",
      "999 times 3 plus 1 is 2998\n",
      "2998 divide by 2 is 1499\n",
      "1499 times 3 plus 1 is 4498\n",
      "4498 divide by 2 is 2249\n",
      "2249 times 3 plus 1 is 6748\n",
      "6748 divide by 2 is 3374\n",
      "3374 divide by 2 is 1687\n",
      "1687 times 3 plus 1 is 5062\n",
      "5062 divide by 2 is 2531\n",
      "2531 times 3 plus 1 is 7594\n",
      "7594 divide by 2 is 3797\n",
      "3797 times 3 plus 1 is 11392\n",
      "11392 divide by 2 is 5696\n",
      "5696 divide by 2 is 2848\n",
      "2848 divide by 2 is 1424\n",
      "1424 divide by 2 is 712\n",
      "712 divide by 2 is 356\n",
      "356 divide by 2 is 178\n",
      "178 divide by 2 is 89\n",
      "89 times 3 plus 1 is 268\n",
      "268 divide by 2 is 134\n",
      "134 divide by 2 is 67\n",
      "67 times 3 plus 1 is 202\n",
      "202 divide by 2 is 101\n",
      "101 times 3 plus 1 is 304\n",
      "304 divide by 2 is 152\n",
      "152 divide by 2 is 76\n",
      "76 divide by 2 is 38\n",
      "38 divide by 2 is 19\n",
      "19 times 3 plus 1 is 58\n",
      "58 divide by 2 is 29\n",
      "29 times 3 plus 1 is 88\n",
      "88 divide by 2 is 44\n",
      "44 divide by 2 is 22\n",
      "22 divide by 2 is 11\n",
      "11 times 3 plus 1 is 34\n",
      "34 divide by 2 is 17\n",
      "17 times 3 plus 1 is 52\n",
      "52 divide by 2 is 26\n",
      "26 divide by 2 is 13\n",
      "13 times 3 plus 1 is 40\n",
      "40 divide by 2 is 20\n",
      "20 divide by 2 is 10\n",
      "10 divide by 2 is 5\n",
      "5 times 3 plus 1 is 16\n",
      "16 divide by 2 is 8\n",
      "8 divide by 2 is 4\n",
      "4 divide by 2 is 2\n",
      "2 divide by 2 is 1\n",
      "Operations for number 0 are:\n",
      "bye!\n"
     ]
    }
   ],
   "metadata": {}
  },
  {
   "cell_type": "markdown",
   "source": [],
   "metadata": {}
  }
 ],
 "metadata": {
  "orig_nbformat": 4,
  "language_info": {
   "name": "python",
   "version": "3.9.2",
   "mimetype": "text/x-python",
   "codemirror_mode": {
    "name": "ipython",
    "version": 3
   },
   "pygments_lexer": "ipython3",
   "nbconvert_exporter": "python",
   "file_extension": ".py"
  },
  "kernelspec": {
   "name": "python3",
   "display_name": "Python 3.9.2 64-bit"
  },
  "interpreter": {
   "hash": "442fca8e155516cf99650753c75b4ecb7378bfdc4ba17862708532867a0a094d"
  }
 },
 "nbformat": 4,
 "nbformat_minor": 2
}