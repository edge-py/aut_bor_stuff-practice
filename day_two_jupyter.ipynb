{
 "cells": [
  {
   "cell_type": "markdown",
   "source": [
    "# Day Two practicing Python"
   ],
   "metadata": {}
  },
  {
   "cell_type": "markdown",
   "source": [
    "### *Comma code*\r\n",
    "Write a function that takes a list value as an argument and returns \r\n",
    "a string with all the items separated by a comma and a space, with and inserted before the last item. For example, passing the previous spam list to the function would return 'apples, bananas, tofu, and cats'. But your function should be able to work with any list value passed to it. Be sure to test the case where an empty list [] is passed to your function."
   ],
   "metadata": {}
  },
  {
   "cell_type": "code",
   "execution_count": 16,
   "source": [
    "def commafunction(passed_list):\r\n",
    "    cooked_string = \"\"\r\n",
    "\r\n",
    "    for i in range(len(passed_list)):\r\n",
    "        if i == 0:\r\n",
    "            cooked_string = passed_list[0]\r\n",
    "        else:\r\n",
    "            if i == (len(passed_list)-1):\r\n",
    "                cooked_string = cooked_string + ' and ' + passed_list[i]\r\n",
    "            else:\r\n",
    "                cooked_string = cooked_string + ', ' + passed_list[i]\r\n",
    "    \r\n",
    "    return cooked_string\r\n",
    "\r\n",
    "\r\n",
    "while True:\r\n",
    "    action = input(\"Press your action: (s)tart, (q)uit\")\r\n",
    "    if action.lower() == \"q\":\r\n",
    "        break\r\n",
    "    else:\r\n",
    "        raw_list = []\r\n",
    "        typed_item = \"\"\r\n",
    "        while True:\r\n",
    "            typed_item = input(\"Type in your item or 'p' to stop typing items.\")\r\n",
    "            if typed_item != 'p':\r\n",
    "                raw_list.append(typed_item)\r\n",
    "            else:\r\n",
    "                break\r\n",
    "        print(\"Init list is: \" + str(raw_list))\r\n",
    "        print(\"The result of Comma Function is: \")\r\n",
    "        print(commafunction(raw_list))\r\n",
    "        \r\n"
   ],
   "outputs": [
    {
     "output_type": "stream",
     "name": "stdout",
     "text": [
      "Init list is: ['apple', 'mapple', 'rapple', 'dapple']\n",
      "The result of Comma Function is: \n",
      "apple, mapple, rapple and dapple\n"
     ]
    }
   ],
   "metadata": {}
  },
  {
   "cell_type": "markdown",
   "source": [],
   "metadata": {}
  }
 ],
 "metadata": {
  "orig_nbformat": 4,
  "language_info": {
   "name": "python",
   "version": "3.9.2",
   "mimetype": "text/x-python",
   "codemirror_mode": {
    "name": "ipython",
    "version": 3
   },
   "pygments_lexer": "ipython3",
   "nbconvert_exporter": "python",
   "file_extension": ".py"
  },
  "kernelspec": {
   "name": "python3",
   "display_name": "Python 3.9.2 64-bit"
  },
  "interpreter": {
   "hash": "442fca8e155516cf99650753c75b4ecb7378bfdc4ba17862708532867a0a094d"
  }
 },
 "nbformat": 4,
 "nbformat_minor": 2
}